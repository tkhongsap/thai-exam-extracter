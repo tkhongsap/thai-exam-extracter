{
 "cells": [
  {
   "cell_type": "code",
   "execution_count": 1,
   "metadata": {},
   "outputs": [],
   "source": [
    "import requests\n",
    "from bs4 import BeautifulSoup\n",
    "import json\n",
    "\n",
    "# URL of the webpage you want to scrape\n",
    "url = \"https://www.trueplookpanya.com/examination2/examPreview?id=13500\"\n",
    "\n",
    "# Send a GET request to the webpage\n",
    "response = requests.get(url)\n",
    "print(response.status_code"
   ]
  },
  {
   "cell_type": "code",
   "execution_count": 6,
   "metadata": {},
   "outputs": [
    {
     "name": "stdout",
     "output_type": "stream",
     "text": [
      "{\n",
      "    \"exam_title\": \"Exam Title Not Found\",\n",
      "    \"questions\": []\n",
      "}\n"
     ]
    }
   ],
   "source": [
    "import requests\n",
    "from bs4 import BeautifulSoup\n",
    "import json\n",
    "\n",
    "# URL of the webpage you want to scrape\n",
    "url = \"https://www.trueplookpanya.com/examination2/examPreview?id=13500\"\n",
    "\n",
    "# Send a GET request to the webpage\n",
    "response = requests.get(url)\n",
    "\n",
    "# Check if the request was successful\n",
    "if response.status_code == 200:\n",
    "    # Parse the HTML content using BeautifulSoup\n",
    "    soup = BeautifulSoup(response.content, 'html.parser')\n",
    "    \n",
    "    # Extract exam metadata\n",
    "    metadata_table = soup.find('table', class_='exam_info')\n",
    "    metadata_rows = metadata_table.find_all('tr')\n",
    "    \n",
    "    exam_metadata = {\n",
    "        \"exam_code\": metadata_rows[0].find('td').text.strip(),\n",
    "        \"subject\": metadata_rows[1].find('td').text.strip(),\n",
    "        \"grade_level\": metadata_rows[2].find('td').text.strip(),\n",
    "        \"number_of_questions\": metadata_rows[3].find('td').text.strip(),\n",
    "        \"exam_title\": metadata_rows[4].find('td').text.strip()\n",
    "    }\n",
    "    \n",
    "    # Initialize a list to store questions and answers\n",
    "    questions_list = []\n",
    "    \n",
    "    # Find all questions and answers\n",
    "    question_blocks = soup.find_all('div', class_='question_block')\n",
    "    \n",
    "    for idx, block in enumerate(question_blocks, 1):\n",
    "        question_text = block.find('div', class_='question_text').text.strip()\n",
    "        answer_choices = [choice.text.strip() for choice in block.find_all('div', class_='answer_choice')]\n",
    "        \n",
    "        # Append question and answers to the list\n",
    "        questions_list.append({\n",
    "            \"question_number\": idx,\n",
    "            \"question_text\": question_text,\n",
    "            \"answer_choices\": answer_choices\n",
    "        })\n",
    "    \n",
    "    # Combine metadata and questions into one JSON object\n",
    "    exam_data = {\n",
    "        \"metadata\": exam_metadata,\n",
    "        \"questions\": questions_list\n",
    "    }\n",
    "    \n",
    "    # Convert the dictionary to a JSON string\n",
    "    exam_json = json.dumps(exam_data, ensure_ascii=False, indent=4)\n",
    "    \n",
    "    # Print the JSON output\n",
    "    print(exam_json)\n",
    "    \n",
    "    # Optionally, save the JSON output to a file\n",
    "    with open(\"exam_data.json\", \"w\", encoding='utf-8') as json_file:\n",
    "        json_file.write(exam_json)\n",
    "else:\n",
    "    print(f\"Failed to retrieve the webpage. Status code: {response.status_code}\")\n"
   ]
  },
  {
   "cell_type": "code",
   "execution_count": null,
   "metadata": {},
   "outputs": [],
   "source": []
  }
 ],
 "metadata": {
  "kernelspec": {
   "display_name": "Python 3",
   "language": "python",
   "name": "python3"
  },
  "language_info": {
   "codemirror_mode": {
    "name": "ipython",
    "version": 3
   },
   "file_extension": ".py",
   "mimetype": "text/x-python",
   "name": "python",
   "nbconvert_exporter": "python",
   "pygments_lexer": "ipython3",
   "version": "3.12.4"
  }
 },
 "nbformat": 4,
 "nbformat_minor": 2
}
